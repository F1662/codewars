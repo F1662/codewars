{
 "cells": [
  {
   "cell_type": "markdown",
   "metadata": {},
   "source": [
    "As a part of this Kata, you need to create a function that when provided with a triplet, returns the index of the numerical element that lies between the other two elements.\n",
    "\n",
    "The input to the function will be an array of three distinct numbers (Haskell: a tuple).\n",
    "\n",
    "For example:\n",
    "\n",
    "gimme([2, 3, 1]) => 0\n",
    "2 is the number that fits between 1 and 3 and the index of 2 in the input array is 0.\n",
    "\n",
    "Another example (just to make sure it is clear):\n",
    "\n",
    "gimme([5, 10, 14]) => 1\n",
    "10 is the number that fits between 5 and 14 and the index of 10 in the input array is 1."
   ]
  },
  {
   "cell_type": "code",
   "execution_count": null,
   "metadata": {},
   "outputs": [],
   "source": [
    "def gimme(input_array):\n",
    "    \n",
    "    x = tuple(input_array)\n",
    "    input_array.sort()\n",
    "    \n",
    "    return x.index(input_array[1])\n",
    "\n",
    "\n",
    "\n",
    "gimme([2, 3, 1])"
   ]
  }
 ],
 "metadata": {
  "language_info": {
   "name": "python"
  },
  "orig_nbformat": 4
 },
 "nbformat": 4,
 "nbformat_minor": 2
}
