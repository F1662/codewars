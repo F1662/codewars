{
 "cells": [
  {
   "cell_type": "markdown",
   "metadata": {},
   "source": [
    "Write a function that takes a string and an an integer n as parameters and returns a list of all words that are longer than n.\n",
    "\n",
    "Example:\n",
    "\n",
    "* With input \"The quick brown fox jumps over the lazy dog\", 4\n",
    "* Return ['quick', 'brown', 'jumps']"
   ]
  },
  {
   "cell_type": "code",
   "execution_count": 17,
   "metadata": {},
   "outputs": [
    {
     "data": {
      "text/plain": [
       "['quick', 'brown', 'jumps']"
      ]
     },
     "execution_count": 17,
     "metadata": {},
     "output_type": "execute_result"
    }
   ],
   "source": [
    "def filter_long_words(sentence, n):\n",
    "    y = []\n",
    "    x = sentence.split(' ')\n",
    "    for i in range(len(x)):\n",
    "        if len(x[i]) < n+1 :\n",
    "            pass\n",
    "        else:\n",
    "            y.append(x[i])\n",
    "    return y\n",
    "\n",
    "\n",
    "filter_long_words(\"The quick brown fox jumps over the lazy dog\", 4)"
   ]
  }
 ],
 "metadata": {
  "interpreter": {
   "hash": "5d240ba0dc525c389faa33f5dcce5b4f32b6d6aa6d70d6d2dd929bd2b09ab69f"
  },
  "kernelspec": {
   "display_name": "Python 3.10.2 64-bit",
   "language": "python",
   "name": "python3"
  },
  "language_info": {
   "codemirror_mode": {
    "name": "ipython",
    "version": 3
   },
   "file_extension": ".py",
   "mimetype": "text/x-python",
   "name": "python",
   "nbconvert_exporter": "python",
   "pygments_lexer": "ipython3",
   "version": "3.10.2"
  },
  "orig_nbformat": 4
 },
 "nbformat": 4,
 "nbformat_minor": 2
}
